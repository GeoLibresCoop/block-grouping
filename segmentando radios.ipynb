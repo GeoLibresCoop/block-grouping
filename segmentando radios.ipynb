{
 "cells": [
  {
   "cell_type": "code",
   "execution_count": 6,
   "metadata": {
    "collapsed": true
   },
   "outputs": [],
   "source": [
    "'''\n",
    "Segmentador de manzanas y lados\n",
    "'''\n",
    "\n",
    "class bloque:\n",
    "    __init__(self):\n",
    "        pass\n",
    "    'clase de unidades compuestas por manzanas y lados que van a ser finalmente los segmentos'\n",
    "    def adyacentes():\n",
    "        'explicación del método, van a ser muchísimos :-P' \n",
    "        pass\n",
    "    def partir():\n",
    "        'cómo voy a partirlo?'\n",
    "        pass\n",
    "    def adyacente(bloque):\n",
    "        \"\"\" para verificar adyacencias\n",
    "        por ahora devuelve falso\n",
    "        \n",
    "        This is a longer explanation, which may include math with latex syntax\n",
    "        :math:`\\\\alpha`.\n",
    "        Then, you need to provide optional subsection in this order (just to be\n",
    "        consistent and have a uniform documentation. Nothing prevent you to\n",
    "        switch the order):\n",
    "\n",
    "          - parameters using ``:param <name>: <description>``\n",
    "          - type of the parameters ``:type <name>: <description>``\n",
    "          - returns using ``:returns: <description>``\n",
    "          - examples (doctest)\n",
    "          - seealso using ``.. seealso:: text``\n",
    "          - notes using ``.. note:: text``\n",
    "          - warning using ``.. warning:: text``\n",
    "          - todo ``.. todo:: text``\n",
    "\n",
    "        **Advantages**:\n",
    "         - Uses sphinx markups, which will certainly be improved in future\n",
    "           version\n",
    "         - Nice HTML output with the See Also, Note, Warnings directives\n",
    "\n",
    "\n",
    "        **Drawbacks**:\n",
    "         - Just looking at the docstring, the parameter, type and  return\n",
    "           sections do not appear nicely\n",
    "\n",
    "        :param arg1: the first value\n",
    "        :param arg2: the first value\n",
    "        :param arg3: the first value\n",
    "        :type arg1: int, float,...\n",
    "        :type arg2: int, float,...\n",
    "        :type arg3: int, float,...\n",
    "        :returns: arg1/arg2 +arg3\n",
    "        :rtype: int, float\n",
    "\n",
    "        :Example:\n",
    "\n",
    "        >>> import template\n",
    "        >>> a = template.MainClass1()\n",
    "        >>> a.function1(1,1,1)\n",
    "        2\n",
    "\n",
    "        .. note:: can be useful to emphasize\n",
    "            important feature\n",
    "        .. seealso:: :class:`MainClass2`\n",
    "        .. warning:: arg2 must be non-zero.\n",
    "        .. todo:: check that arg2 is non zero.\n",
    "        \"\"\"\n",
    "        return False\n",
    "\n",
    "\n",
    "\n",
    "bloque = Bloque()\n",
    "\n"
   ]
  },
  {
   "cell_type": "code",
   "execution_count": null,
   "metadata": {
    "collapsed": true
   },
   "outputs": [],
   "source": []
  }
 ],
 "metadata": {
  "kernelspec": {
   "display_name": "Python 2",
   "language": "python",
   "name": "python2"
  },
  "language_info": {
   "codemirror_mode": {
    "name": "ipython",
    "version": 2
   },
   "file_extension": ".py",
   "mimetype": "text/x-python",
   "name": "python",
   "nbconvert_exporter": "python",
   "pygments_lexer": "ipython2",
   "version": "2.7.12"
  }
 },
 "nbformat": 4,
 "nbformat_minor": 2
}
